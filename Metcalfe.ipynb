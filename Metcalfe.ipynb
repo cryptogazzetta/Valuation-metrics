{
 "cells": [
  {
   "cell_type": "code",
   "execution_count": 1,
   "metadata": {},
   "outputs": [],
   "source": [
    "import numpy as np\n",
    "import pandas as pd\n",
    "import datetime as dt\n",
    "from datetime import datetime\n",
    "import matplotlib.pyplot as plt\n",
    "from sklearn.linear_model import LinearRegression\n",
    "\n",
    "## Start date\n",
    "start = '2009-06-10'\n",
    "## CoinMetrics data\n",
    "data = pd.read_csv('https://community-api.coinmetrics.io/v2/assets/btc/metricdata.csv?metrics=PriceUSD,CapMrktCurUSD,CapRealUSD,TxTfrValAdjUSD,FeeTotUSD,FeeTotNtv,IssContNtv,BlkCnt,DiffMean,SplyCur,AdrActCnt&start='+start, index_col = 0, parse_dates=True)\n",
    "# Remove time-zone stamp from index\n",
    "data.index = data.index.tz_convert(None)\n",
    "\n",
    "## Blockchain.com wallets data\n",
    "timespan = 'all'\n",
    "w_data = pd.read_csv('https://api.blockchain.info/charts/my-wallet-n-users?timespan='+timespan+'&format=csv', header=None, infer_datetime_format =True)\n",
    "w_data.columns = ['Date', 'nWallets']\n",
    "## Parsing date\n",
    "w_data['Date'] = w_data['Date'].apply(lambda x: datetime.strptime(str(x).split(' ')[0], '%Y-%m-%d'))\n",
    "## Eliminate 'intra day' data\n",
    "w_data['Date'] = w_data['Date'].drop_duplicates(keep = 'last')\n",
    "w_data = w_data[w_data['Date'].notnull()]\n",
    "## Date to index\n",
    "w_data.set_index('Date', inplace=True, drop=True)\n",
    "## Merge dataframes\n",
    "data = pd.concat([data, w_data], axis=1, sort=True, join='outer')\n",
    "## Fill empty cells\n",
    "data['nWallets'] = data['nWallets'].ffill(axis = 0)\n",
    "\n",
    "## Gompertz Sigmoid\n",
    "data['G_Sigmoid'] = data['SplyCur'] * np.log(21000000 / data['SplyCur'])\n",
    "\n",
    "data = data.iloc[720:]"
   ]
  },
  {
   "cell_type": "code",
   "execution_count": 2,
   "metadata": {},
   "outputs": [
    {
     "name": "stderr",
     "output_type": "stream",
     "text": [
      "<ipython-input-2-2fe5ccb16dd2>:14: SettingWithCopyWarning: \n",
      "A value is trying to be set on a copy of a slice from a DataFrame\n",
      "\n",
      "See the caveats in the documentation: https://pandas.pydata.org/pandas-docs/stable/user_guide/indexing.html#returning-a-view-versus-a-copy\n",
      "  w_data.dropna(thresh= 3, inplace=True)\n"
     ]
    },
    {
     "name": "stdout",
     "output_type": "stream",
     "text": [
      "0.7607859940804411\n",
      "0.7910481173672552\n"
     ]
    },
    {
     "data": {
      "image/png": "[encoded data removed]",
      "text/plain": [
       "<Figure size 432x288 with 1 Axes>"
      ]
     },
     "metadata": {
      "needs_background": "light"
     },
     "output_type": "display_data"
    }
   ],
   "source": [
    "## Metcalfe's Law\n",
    "\n",
    "## Daily Active Addresses\n",
    "data['AA Pairs'] = data['AdrActCnt'] * (data['AdrActCnt'] - 1) / 2\n",
    "data['DAA Metcalfe (log)'] = np.log(data['AA Pairs']) / data['G_Sigmoid']\n",
    "\n",
    "## Transaction pairs (mil)\n",
    "data['Wlt Pairs'] = data['nWallets'] * (data['nWallets'] - 1) / 2\n",
    "data['Wlt Metcalfe (log)'] = np.log(data['Wlt Pairs']) / data['G_Sigmoid']\n",
    "\n",
    "\n",
    "## Working Data for Linear Regression\n",
    "w_data = data[['DAA Metcalfe (log)', 'Wlt Metcalfe (log)', 'PriceUSD']]\n",
    "w_data.dropna(thresh= 3, inplace=True)\n",
    "\n",
    "log_wlt = w_data['Wlt Metcalfe (log)'].values.reshape(-1, 1)\n",
    "log_daa = w_data['DAA Metcalfe (log)'].values.reshape(-1, 1)\n",
    "log_price = np.log(w_data['PriceUSD']).values.reshape(-1, 1)\n",
    "\n",
    "## Linear Regression\n",
    "daa_reg = LinearRegression().fit(log_daa, log_price)\n",
    "wlt_reg = LinearRegression().fit(log_wlt, log_price)\n",
    "\n",
    "daa_a = daa_reg.coef_[0][0]\n",
    "daa_b = daa_reg.intercept_[0]\n",
    "\n",
    "wlt_a = wlt_reg.coef_[0][0]\n",
    "wlt_b = wlt_reg.intercept_[0]\n",
    "\n",
    "data['DAA Metcalfe Price'] = np.exp(data['DAA Metcalfe (log)'] * daa_a + daa_b)\n",
    "data['Wlt Metcalfe Price'] = np.exp(data['Wlt Metcalfe (log)'] * wlt_a + wlt_b)\n",
    "\n",
    "print(daa_reg.score(log_daa, log_price))\n",
    "print(wlt_reg.score(log_wlt, log_price))\n",
    "\n",
    "np.log(data[['DAA Metcalfe Price', 'PriceUSD']]).plot()\n",
    "#np.log(data[['Wlt Metcalfe Price', 'PriceUSD']]).plot()\n",
    "#data['Metcalfe (log)'].plot()\n",
    "\n",
    "file = data[['DAA Metcalfe Price', 'Wlt Metcalfe Price']].to_csv('Data/Metcalfe.csv')"
   ]
  },
  {
   "cell_type": "code",
   "execution_count": null,
   "metadata": {},
   "outputs": [],
   "source": [
    "wlt_b"
   ]
  }
 ],
 "metadata": {
  "kernelspec": {
   "display_name": "Python 3",
   "language": "python",
   "name": "python3"
  },
  "language_info": {
   "codemirror_mode": {
    "name": "ipython",
    "version": 3
   },
   "file_extension": ".py",
   "mimetype": "text/x-python",
   "name": "python",
   "nbconvert_exporter": "python",
   "pygments_lexer": "ipython3",
   "version": "3.8.3"
  }
 },
 "nbformat": 4,
 "nbformat_minor": 2
}
