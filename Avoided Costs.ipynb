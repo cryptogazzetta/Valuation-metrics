{
 "cells": [
  {
   "cell_type": "code",
   "execution_count": 1,
   "metadata": {},
   "outputs": [
    {
     "name": "stderr",
     "output_type": "stream",
     "text": [
      "/anaconda3/lib/python3.7/site-packages/IPython/core/interactiveshell.py:3020: DtypeWarning: Columns (36) have mixed types. Specify dtype option on import or set low_memory=False.\n",
      "  interactivity=interactivity, compiler=compiler, result=result)\n"
     ]
    }
   ],
   "source": [
    "import pandas as pd\n",
    "import numpy as np\n",
    "\n",
    "## Select columns\n",
    "columns = ['period','source_name', 'source_income', 'destination_name',\n",
    "           'destination_income', 'cc1 denomination amount',\n",
    "           'cc1 total cost %', 'cc2 denomination amount', 'cc2 total cost %']\n",
    "\n",
    "## Rename them\n",
    "columns_names = ['period','source', 'source_income', 'destination',\n",
    "           'destination_income', 'cc1 USD amount',\n",
    "           'cc1 cost %', 'cc2 USD amount', 'cc2 cost %']\n",
    "\n",
    "## Dataset (up to Q1 2016)\n",
    "data1 = pd.read_csv('Data/Remittances.xlsx - Dataset (up to Q1 2016).csv')\n",
    "data1 = data1[columns]\n",
    "data1.columns = columns_names\n",
    "\n",
    "## Fix index\n",
    "data1['period'].replace(['_1Q', '_2Q', '_3Q', '_4Q'], ['-03', '-06', '-09', '-12'], inplace=True, regex=True)\n",
    "data1['period'] = pd.to_datetime(data1['period'])\n",
    "data1.set_index('period', inplace=True)\n",
    "\n",
    "## Dataset (from Q2 2016)\n",
    "data2 = pd.read_csv('Data/Remittances.xlsx - Dataset (from Q2 2016).csv')\n",
    "data2 = data2[columns]\n",
    "data2.columns = columns_names\n",
    "\n",
    "## Fix index\n",
    "data2['period'].replace(['_1Q', '_2Q', '_3Q', '_4Q'], ['-03', '-06', '-09', '-12'], inplace=True, regex=True)\n",
    "data2['period'] = pd.to_datetime(data2['period'])\n",
    "data2.set_index('period', inplace=True)\n",
    "\n",
    "raw_data = pd.concat([data1, data2])"
   ]
  },
  {
   "cell_type": "code",
   "execution_count": 2,
   "metadata": {},
   "outputs": [],
   "source": [
    "periods = raw_data.index.unique()\n",
    "\n",
    "wb_data = pd.DataFrame()\n",
    "\n",
    "for i in range(len(periods)):\n",
    "   wb_data.loc[periods[i], 'cc1 USD amount'] = raw_data[raw_data.index == periods[i]]['cc1 USD amount'].mean()\n",
    "   wb_data.loc[periods[i], 'cc2 USD amount'] = raw_data[raw_data.index == periods[i]]['cc2 USD amount'].mean()\n",
    "    \n",
    "   wb_data.loc[periods[i], 'cc1 cost %'] = raw_data[raw_data.index == periods[i]]['cc1 cost %'].mean()\n",
    "   wb_data.loc[periods[i], 'cc2 cost %'] = raw_data[raw_data.index == periods[i]]['cc2 cost %'].mean()"
   ]
  },
  {
   "cell_type": "code",
   "execution_count": 3,
   "metadata": {},
   "outputs": [],
   "source": [
    "## CoinMetrics Data\n",
    "\n",
    "## Start date\n",
    "start = '2009-06-10'\n",
    "##Open data\n",
    "cm_data = pd.read_csv('https://community-api.coinmetrics.io/v2/assets/btc/metricdata.csv?metrics=PriceUSD,CapMrktCurUSD,CapRealUSD,TxTfrValAdjUSD,FeeTotUSD,IssContNtv,SplyCur&start='+start, index_col = 0, parse_dates=True)"
   ]
  },
  {
   "cell_type": "code",
   "execution_count": 4,
   "metadata": {},
   "outputs": [],
   "source": [
    "## Concat data into df\n",
    "df = pd.concat([cm_data, wb_data], axis=1)\n",
    "\n",
    "df['cc1 cost %'].fillna(method = 'ffill', inplace=True)\n",
    "df['cc2 cost %'].fillna(method = 'ffill', inplace=True)"
   ]
  },
  {
   "cell_type": "code",
   "execution_count": 5,
   "metadata": {},
   "outputs": [],
   "source": [
    "## Avoided and BTC Costs\n",
    "\n",
    "## Cost of 200 USD Remittances by traditional methods \n",
    "df['Alt Costs'] = (df['TxTfrValAdjUSD'] * df['cc1 cost %'] / 100)\n",
    "\n",
    "## Costs on Bitcoin: Miners fees + Exchange Fees\n",
    "exc_fee = 0.002\n",
    "df['BTC Costs'] = (df['FeeTotUSD']) + 2 *(df['TxTfrValAdjUSD']* exc_fee)"
   ]
  },
  {
   "cell_type": "code",
   "execution_count": 6,
   "metadata": {},
   "outputs": [],
   "source": [
    "## Cumulative Avoided Costs\n",
    "per = 30\n",
    "\n",
    "## Cumulative Net Avoided Costs\n",
    "df['c_Avdd Costs'] = (((df['Alt Costs'] - df['BTC Costs'])).rolling(per).mean()).cumsum()\n",
    "## Cumulative Avoided Costs per Bitcoin\n",
    "df['c_AC Price'] = df['c_Avdd Costs'] / df['SplyCur']"
   ]
  },
  {
   "cell_type": "code",
   "execution_count": 9,
   "metadata": {
    "collapsed": true
   },
   "outputs": [
    {
     "name": "stderr",
     "output_type": "stream",
     "text": [
      "/anaconda3/lib/python3.7/site-packages/ipykernel_launcher.py:21: RuntimeWarning: invalid value encountered in log\n"
     ]
    },
    {
     "data": {
      "text/plain": [
       "<matplotlib.axes._subplots.AxesSubplot at 0x11bf84780>"
      ]
     },
     "execution_count": 9,
     "metadata": {},
     "output_type": "execute_result"
    },
    {
     "data": {
      "image/png": "[encoded data removed]",
      "text/plain": [
       "<Figure size 432x288 with 1 Axes>"
      ]
     },
     "metadata": {
      "needs_background": "light"
     },
     "output_type": "display_data"
    }
   ],
   "source": [
    "per = 30\n",
    "\n",
    "## Expected (Past) Net Avoided Costs\n",
    "df['e_Alt Costs'] = df['Alt Costs'].rolling(window=per).mean().cumsum()\n",
    "df['e_BTC Costs'] = df['BTC Costs'].rolling(window=per).mean().cumsum()\n",
    "df['e_avdd costs'] = df['e_Alt Costs'] - df['e_BTC Costs']\n",
    "\n",
    "## Expected Avdd Costs\n",
    "df['e_Avdd Costs'] = df['e_avdd costs']\n",
    "\n",
    "## Expected Volatility Factor\n",
    "df['BTC Vol Factor'] = (1 + df['PriceUSD'].shift(per).rolling(window=per).std() / df['PriceUSD'].shift(per).rolling(window=per).mean())\n",
    "\n",
    "## Expected Volume Growth\n",
    "#df['e_Volume Growth Factor'] = (df['TxTfrValAdjUSD'] / df['TxTfrValAdjUSD'].shift(per)).rolling(per).mean()\n",
    "\n",
    "## Expected Avoided Costs per Bitcoin\n",
    "df['e_AC Price'] = df['e_Avdd Costs'] / df['SplyCur'] / df['BTC Vol Factor'] #* df['e_Volume Growth Factor']\n",
    "\n",
    "#df = df.iloc[720:]\n",
    "np.log(df[['e_AC Price', 'PriceUSD']]).plot()\n",
    "\n",
    "#np.log(df['BTC Vol Factor']).plot()\n"
   ]
  },
  {
   "cell_type": "code",
   "execution_count": 18,
   "metadata": {},
   "outputs": [],
   "source": [
    "df['e_AC Price'].to_csv('Avoided Costs.csv')"
   ]
  }
 ],
 "metadata": {
  "kernelspec": {
   "display_name": "Python 3",
   "language": "python",
   "name": "python3"
  },
  "language_info": {
   "codemirror_mode": {
    "name": "ipython",
    "version": 3
   },
   "file_extension": ".py",
   "mimetype": "text/x-python",
   "name": "python",
   "nbconvert_exporter": "python",
   "pygments_lexer": "ipython3",
   "version": "3.7.1"
  }
 },
 "nbformat": 4,
 "nbformat_minor": 2
}
