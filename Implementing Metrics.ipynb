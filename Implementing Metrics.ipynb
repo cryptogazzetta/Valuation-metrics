{
 "cells": [
  {
   "cell_type": "code",
   "execution_count": 31,
   "metadata": {},
   "outputs": [],
   "source": [
    "import numpy as np\n",
    "import pandas as pd\n",
    "import datetime as dt\n",
    "from datetime import datetime\n",
    "import matplotlib.pyplot as plt\n",
    "\n",
    "## Start date\n",
    "start = '2009-06-10'\n",
    "## CoinMetrics data\n",
    "data = data0 = pd.read_csv('https://community-api.coinmetrics.io/v2/assets/btc/metricdata.csv?metrics=PriceUSD,CapMrktCurUSD,CapRealUSD,TxTfrValAdjUSD,FeeTotUSD,FeeTotNtv,IssContNtv,BlkCnt,DiffMean,SplyCur&start='+start, index_col = 0, parse_dates=True)\n",
    "\n",
    "## Blockchain.com wallets data\n",
    "timespan = 'all'\n",
    "w_data = pd.read_csv('https://api.blockchain.info/charts/my-wallet-n-users?timespan='+timespan+'&format=csv', header=None, infer_datetime_format =True)\n",
    "w_data.columns = ['Date', 'nWallets']\n",
    "## Parsing date\n",
    "w_data['Date'] = w_data['Date'].apply(lambda x: datetime.strptime(str(x).split(' ')[0], '%Y-%m-%d'))\n",
    "## Eliminate 'intra day' data\n",
    "w_data['Date'] = w_data['Date'].drop_duplicates(keep = 'last')\n",
    "w_data = w_data[w_data['Date'].notnull()]\n",
    "## Date to index\n",
    "w_data.set_index('Date', inplace=True, drop=True)\n",
    "## Merge dataframes\n",
    "data = pd.concat([data, w_data], axis=1, sort=True, join='outer')\n",
    "## Fill empty cells\n",
    "data['nWallets'] = data['nWallets'].ffill(axis = 0)"
   ]
  },
  {
   "cell_type": "code",
   "execution_count": 2,
   "metadata": {
    "scrolled": true
   },
   "outputs": [],
   "source": [
    "## MVRV\n",
    "\n",
    "## Realized Price\n",
    "data['Realized Price'] = data['CapRealUSD'] / data['SplyCur']\n",
    "\n",
    "## MVRV Ratio\n",
    "data['MVRV'] = data['CapMrktCurUSD'] / data['CapRealUSD']\n",
    "## MVRV-z\n",
    "per = 200\n",
    "data['MVRV-z'] = (data['MVRV'] - data['MVRV'].rolling(per).mean()) / data['MVRV'].rolling(per).std()\n",
    "\n",
    "## Price to MVRV (PTM)\n",
    "data['PTM'] = data['PriceUSD'] * data['MVRV'].mean()"
   ]
  },
  {
   "cell_type": "code",
   "execution_count": 3,
   "metadata": {
    "scrolled": true
   },
   "outputs": [],
   "source": [
    "## NVT\n",
    "\n",
    "## NVT Ratio\n",
    "data['NVT'] = data['PriceUSD'] / data['TxTfrValAdjUSD']\n",
    "## NVT Price\n",
    "per = 200\n",
    "data['NVT Price'] = (data['NVT'].mean() * data ['TxTfrValAdjUSD']).rolling(per).mean()"
   ]
  },
  {
   "cell_type": "code",
   "execution_count": 56,
   "metadata": {
    "scrolled": true
   },
   "outputs": [],
   "source": [
    "## Avoided Costs\n",
    "\n",
    "## Open csv\n",
    "avdd_cost = pd.read_csv('Avoided Costs.csv')\n",
    "avdd_cost.columns = ('Date', 'AC Price')\n",
    "## Fix index\n",
    "avdd_cost.set_index('Date', inplace=True)\n",
    "avdd_cost.index = pd.to_datetime(avdd_cost.index)\n",
    "## Join DataFrame\n",
    "data = data.join(avdd_cost)"
   ]
  },
  {
   "cell_type": "code",
   "execution_count": 57,
   "metadata": {},
   "outputs": [],
   "source": [
    "## Cost of Production\n",
    "\n",
    "## Open csv\n",
    "cost_prod = pd.read_csv('Data/Edwards model.csv')\n",
    "## Fix index\n",
    "cost_prod.set_index('Date', inplace=True)\n",
    "cost_prod.index = pd.to_datetime(cost_prod.index)\n",
    "## Join DataFrame\n",
    "data = data.join(cost_prod)"
   ]
  },
  {
   "cell_type": "code",
   "execution_count": 58,
   "metadata": {
    "scrolled": false
   },
   "outputs": [],
   "source": [
    "## Stock-to-Flow\n",
    "\n",
    "## S2F Ratio\n",
    "data['S2F'] = data['SplyCur'] / data['IssContNtv'].rolling(360).sum()\n",
    "\n",
    "## S2F Price\n",
    "data['S2F Price'] = np.exp(-1.84) * data['S2F'] ** 3.36\n",
    "## S2F 360d discounting Satoshi's tokens (1MM BTC)\n",
    "data['disc S2F'] = (data['SplyCur'] - 1000000) / data['IssContNtv'].rolling(360).sum()"
   ]
  },
  {
   "cell_type": "code",
   "execution_count": 54,
   "metadata": {
    "scrolled": false
   },
   "outputs": [],
   "source": [
    "## Metcalfe's Law\n",
    "\n",
    "## Transaction pairs (mil)\n",
    "data['Tx Pairs'] = data['nWallets'] * (data['nWallets'] - 1) / 2\n",
    "## Gompertz Sigmoid\n",
    "data['G_Sigmoid'] = data['SplyCur'] * np.log(21000000 / data['SplyCur'])\n",
    "## Metcalfe value\n",
    "a = 3.5\n",
    "b = 500000\n",
    "data['Metcalfe (log)'] = a + b * np.log(data['Tx Pairs']) / data['G_Sigmoid']\n",
    "data['Metcalfe'] = np.exp(data['Metcalfe (log)'])"
   ]
  },
  {
   "cell_type": "code",
   "execution_count": 55,
   "metadata": {},
   "outputs": [],
   "source": [
    "data.to_csv('metrics.csv')"
   ]
  }
 ],
 "metadata": {
  "kernelspec": {
   "display_name": "Python 3",
   "language": "python",
   "name": "python3"
  },
  "language_info": {
   "codemirror_mode": {
    "name": "ipython",
    "version": 3
   },
   "file_extension": ".py",
   "mimetype": "text/x-python",
   "name": "python",
   "nbconvert_exporter": "python",
   "pygments_lexer": "ipython3",
   "version": "3.7.1"
  }
 },
 "nbformat": 4,
 "nbformat_minor": 2
}
